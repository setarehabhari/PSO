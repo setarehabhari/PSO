{
 "cells": [
  {
   "cell_type": "markdown",
   "metadata": {
    "id": "orEmC6X_TliT"
   },
   "source": [
    "# Problem\n",
    "Our task is to find the best input for 2 functions so that function $f$ would be maximized and function $g$ minimized, using particle swarm optimization. In my report I will explain how I did this task and some information about each parameters."
   ]
  },
  {
   "cell_type": "markdown",
   "metadata": {
    "id": "C8K_z9fOZkNy"
   },
   "source": [
    "# Particles\n",
    "The class Particle is designed for the particles used in PSO and each particle is an instance of this class. each particle at each point has data of it's current position, it's current celocity and the fitness and position of the best answer the it has found so far."
   ]
  },
  {
   "cell_type": "code",
   "execution_count": 2,
   "metadata": {
    "id": "iVghDEB8senZ"
   },
   "outputs": [],
   "source": [
    "import random\n",
    "import numpy as np\n",
    "import math\n",
    "import matplotlib.pyplot as plt\n",
    "\n",
    "\n",
    "class Particle:\n",
    "  def __init__(self, init_pos, init_fitness, init_velocity) -> None:\n",
    "    self.pos = np.array(init_pos)\n",
    "    self.v = np.array(init_velocity)\n",
    "    self.best_fitness = init_fitness\n",
    "    self.best_pos = init_pos"
   ]
  },
  {
   "cell_type": "markdown",
   "metadata": {
    "id": "M9E7XDc5aE4r"
   },
   "source": [
    "# Functions\n",
    "Since there were two functions andone of them needed the maximum result and one the minimum, I have created this class to store the procedure of these two functions and a main function that will get the result of the appropriate function based on the given parameters.(which_fun which is an string stating which function is being called)\n",
    "And the check_best function returns a boolean of whether the new result is better than the previous answer or not based on which function is being calculated."
   ]
  },
  {
   "cell_type": "code",
   "execution_count": 3,
   "metadata": {
    "id": "bzC2G_Koy4tb"
   },
   "outputs": [],
   "source": [
    "class Functions:\n",
    "  \n",
    "  @staticmethod\n",
    "  def all_functions(pos, which_fun):\n",
    "    if which_fun == 'f':\n",
    "      return Functions.f(pos=pos)\n",
    "    if which_fun == 'g':\n",
    "      return Functions.g(pos=pos)\n",
    "    \n",
    "\n",
    "  @staticmethod\n",
    "  def check_best(new_fitness, which_fun, best):\n",
    "    if which_fun == 'f':\n",
    "      if new_fitness > best:\n",
    "        return True\n",
    "    if which_fun == 'g':\n",
    "      if new_fitness < best:\n",
    "        return True\n",
    "    \n",
    "    return False\n",
    "\n",
    "  @staticmethod\n",
    "  def g(pos):\n",
    "    x , y = pos[0], pos[1]\n",
    "    first = math.sin(y/x)/(1+math.cos(y/x))\n",
    "    second = math.sin(math.pi*math.cos(x)*math.tan(y))\n",
    "    return x*first*second\n",
    "\n",
    "  @staticmethod\n",
    "  def f(pos):\n",
    "    x , y = pos[0], pos[1]\n",
    "    inside_abs = abs(1-(math.sqrt(x**2 + y**2)/math.pi))\n",
    "    return abs(math.sin(x)* math.cos(y) * math.exp(inside_abs))\n"
   ]
  },
  {
   "cell_type": "markdown",
   "metadata": {
    "id": "5blogkYHa-6T"
   },
   "source": [
    "# Particle Swarm Optimization\n",
    "***Initial Swarm***\n",
    "\n",
    "The PSO class is where the main algorithm is run. For creating my original swarm with n particles. I randomly place each particle in the boerd within the given range and asign each of them random velocity. And clearly the first position is considered the best for this particle. But the global best will be checked each time a new particle is created in our initial population.\n",
    "\n",
    " ***Moving Particles***\n",
    "\n",
    " In order to move each particle we will use the given formula in class and determine the new position and velocity. And then check if the new pos is the particles best and whether it is the new global best. Now if a particle has crossed our border, I will make it so that it re enters the border from the other side of the board.\n",
    "\n",
    " ***Swarm Iterations***\n",
    "\n",
    "In each iteration first all the particles will move and theire personal best will be updated and after that the best of all of the particles will be checked to see if it is better than the global best, If that is the case it will then replace our old best"
   ]
  },
  {
   "cell_type": "code",
   "execution_count": 4,
   "metadata": {
    "id": "_BYlpKb3ul48"
   },
   "outputs": [],
   "source": [
    "class PSO:\n",
    "  def __init__(self, w, c_b, c_g, n, iter, v_limit, function, pos_limit, rand_limit) -> None:\n",
    "      self.w = w\n",
    "      self.c_b = c_b\n",
    "      self.c_g = c_g\n",
    "      self.n = n\n",
    "      self.iter = iter\n",
    "      self.v_limit = v_limit\n",
    "      self.pos_limit = pos_limit\n",
    "      self.rand_limit = rand_limit\n",
    "      self.function = function\n",
    "      self.all_best_results = []\n",
    "      self.all_particles = [] \n",
    "      self.swarm = []\n",
    "      self.global_best_pos = np.array([0,0])\n",
    "      self.global_best_fitness = 0\n",
    "\n",
    "\n",
    "\n",
    "  def init_particles(self):\n",
    "    for i in range(self.n):\n",
    "      pos = np.array([random.uniform(-self.pos_limit, self.pos_limit), random.uniform(-self.pos_limit, self.pos_limit)])\n",
    "      ###for fun g\n",
    "      # while(pos[0]==0):\n",
    "      #   pos[0]=random.uniform(-self.pos_limit, self.pos_limit)\n",
    "      fitness = Functions.all_functions(pos, self.function)\n",
    "      new_part = Particle(\n",
    "          init_pos= pos,\n",
    "          init_fitness= fitness,\n",
    "          init_velocity= np.array([random.uniform(-self.v_limit, self.v_limit), random.uniform(-self.v_limit, self.v_limit)])\n",
    "      )\n",
    "      if Functions.check_best(new_fitness=fitness, which_fun = self.function, best=self.global_best_fitness):\n",
    "        self.global_best_fitness = new_part.best_fitness\n",
    "        self.global_best_pos = new_part.best_pos\n",
    "      self.swarm.append(new_part)\n",
    "  \n",
    "  def move_particle(self, part : Particle):\n",
    "    r_2 = random.uniform(0, self.rand_limit)\n",
    "    part.v = np.add(\n",
    "        part.v.dot(self.w),\n",
    "        (np.subtract(part.best_pos , part.pos)).dot(random.uniform(0, self.rand_limit)*self.c_b)\n",
    "        )\n",
    "    part.v = np.add(\n",
    "        part.v,\n",
    "        (np.subtract(self.global_best_pos , part.pos)).dot(random.uniform(0, self.rand_limit)*self.c_g)\n",
    "    )\n",
    "    part.pos = np.add(part.v, part.pos)\n",
    "    part = self.still_within_range(part)\n",
    "    new_fitness = Functions.all_functions(part.pos, self.function)\n",
    "    if Functions.check_best(new_fitness=new_fitness, which_fun = self.function, best=part.best_fitness):\n",
    "          part.best_fitness = Functions.all_functions(part.pos, self.function)\n",
    "          part.best_pos = part.pos\n",
    "    return part\n",
    "\n",
    "  def still_within_range(self, part:Particle):\n",
    "    part.pos[0] = self.max_change(part.pos[0])\n",
    "    part.pos[0] = self.min_change(part.pos[0])\n",
    "    part.pos[1] = self.max_change(part.pos[1])\n",
    "    part.pos[1] = self.min_change(part.pos[1])\n",
    "    ###for fun g\n",
    "    # while(part.pos[0]==0):\n",
    "    #   part.pos[0]=random.uniform(-self.pos_limit, self.pos_limit)\n",
    "      \n",
    "    # part.pos[0] = min(self.pos_limit, part.pos[0])\n",
    "    # part.pos[0] = max(-self.pos_limit, part.pos[0])\n",
    "    # part.pos[1] = min(self.pos_limit, part.pos[1])\n",
    "    # part.pos[1] = max(-self.pos_limit, part.pos[1])\n",
    "    return part\n",
    "\n",
    "  def max_change(self, x):\n",
    "    if x > self.pos_limit:\n",
    "      x = -((-x)%self.pos_limit)\n",
    "    return x\n",
    "  \n",
    "  def min_change(self, x):\n",
    "    if x < -self.pos_limit:\n",
    "      x = -(x%self.pos_limit)\n",
    "    return x\n",
    "\n",
    "\n",
    "  def save_positions(self):\n",
    "    X = []\n",
    "    Y = []\n",
    "    for i in range(len(self.swarm)):\n",
    "      X.append(self.swarm[i].pos[0])\n",
    "      Y.append(self.swarm[i].pos[1])\n",
    "    self.all_particles.append([X, Y])\n",
    "\n",
    "  def PSO_iterations(self):\n",
    "    self.init_particles()\n",
    "    self.all_best_results = []\n",
    "    self.all_particles = []\n",
    "    for i in range(self.iter):\n",
    "      self.all_best_results.append(self.global_best_fitness)\n",
    "      self.save_positions()\n",
    "      for i in range(self.n):\n",
    "        self.swarm[i] = self.move_particle(self.swarm[i])\n",
    "        new_fitness = Functions.all_functions(self.swarm[i].pos, self.function)\n",
    "        if Functions.check_best(new_fitness=new_fitness, which_fun = self.function, best=self.global_best_fitness):\n",
    "          self.global_best_fitness = self.swarm[i].best_fitness\n",
    "          self.global_best_pos = self.swarm[i].best_pos\n",
    "    self.all_best_results.append(self.global_best_fitness)\n",
    "    self.save_positions()\n",
    "    print(self.global_best_pos)\n",
    "    print(self.global_best_fitness)\n",
    "    return self.all_best_results"
   ]
  },
  {
   "cell_type": "markdown",
   "metadata": {
    "id": "pdrLqgPuDHCP"
   },
   "source": [
    "# Display\n",
    "In this section i demonstrated the first 3 iterations of my swarm for duntion f and as you can see the particles position are becoming convergent and this will keep on happening in the other iterations."
   ]
  },
  {
   "cell_type": "code",
   "execution_count": 68,
   "metadata": {
    "id": "BJQxhckZywke"
   },
   "outputs": [],
   "source": [
    "class Display:\n",
    "  @staticmethod\n",
    "  def displayParticles(all_swarms):\n",
    "    plot_info, plots = plt.subplots(3, 3)\n",
    "    plot_info.set_size_inches(30, 20)\n",
    "    print(len(all_swarms))\n",
    "    for i in range(9):\n",
    "      # all_x = []\n",
    "      # all_y = []\n",
    "      # print(all_swarms[i])\n",
    "      # for j in range(len(all_swarms[i])):\n",
    "      #   all_x.append(all_swarms[i][j].pos[0])\n",
    "      #   all_y.append(all_swarms[i][j].pos[1])\n",
    "      plots[i//3, i%3].scatter(all_swarms[i*10][0],all_swarms[i*10][1])"
   ]
  },
  {
   "cell_type": "markdown",
   "metadata": {
    "id": "4p_TTx5zDjiK"
   },
   "source": [
    "# Parameters\n",
    "In the course of this homework I found out that in order to recieve better results the parameters should be :\n",
    "\n",
    "\n",
    "***w:*** For this one i realized that the lower w is the better my results will be so i placed it at 0.1 for g\n",
    "\n",
    "***c_b and c_g:*** For these two one of the important point i realized is that it's better that they are almost equal and not so low like w so for g i put them at 100\n",
    "\n",
    "***n:*** The higher the number of particles are the better answer but also not so high because when we increase the number it will take more time which is not a good thing.\n",
    "\n",
    "These were the important parameters that played a major role in my final result."
   ]
  },
  {
   "cell_type": "markdown",
   "metadata": {
    "id": "mWkMAwbQFPu7"
   },
   "source": [
    "# Test Cases And Extra"
   ]
  },
  {
   "cell_type": "code",
   "execution_count": 42,
   "metadata": {
    "colab": {
     "base_uri": "https://localhost:8080/",
     "height": 0
    },
    "id": "7eLJxo7lfTSg",
    "outputId": "ccbf05fa-cf99-44d6-dcd3-b056240fac0a"
   },
   "outputs": [
    {
     "name": "stdout",
     "output_type": "stream",
     "text": [
      "[-8.06742889 -9.65329439]\n",
      "19.205732647921614\n"
     ]
    }
   ],
   "source": [
    "firstTest_f = PSO(w=0.1, c_b=10, c_g=5, n=200, iter=100, v_limit=5, function='f', pos_limit=10, rand_limit=10)\n",
    "first_result_f = firstTest_f.PSO_iterations()"
   ]
  },
  {
   "cell_type": "code",
   "execution_count": 54,
   "metadata": {
    "colab": {
     "base_uri": "https://localhost:8080/",
     "height": 261
    },
    "id": "EDlHfPrQyUlL",
    "outputId": "05c843de-f51e-4816-b533-2bba59e34b68"
   },
   "outputs": [
    {
     "data": {
      "image/png": "[encoded data removed]",
      "text/plain": [
       "<Figure size 1800x360 with 3 Axes>"
      ]
     },
     "metadata": {
      "needs_background": "light"
     },
     "output_type": "display_data"
    }
   ],
   "source": [
    "Display.displayParticles(firstTest_f.all_particles)"
   ]
  },
  {
   "cell_type": "code",
   "execution_count": 95,
   "metadata": {
    "colab": {
     "base_uri": "https://localhost:8080/",
     "height": 0
    },
    "id": "wTC6VZGUFaaY",
    "outputId": "e7024929-a545-4d9c-cc9a-3758aa07558f"
   },
   "outputs": [
    {
     "name": "stdout",
     "output_type": "stream",
     "text": [
      "[-28.21614523 -88.64362798]\n",
      "-138702483.59775218\n"
     ]
    }
   ],
   "source": [
    "secondTest_g = PSO(w=0.1, c_b=100, c_g=100, n=2000000, iter=10, v_limit=100, function='g', pos_limit=100, rand_limit=10)\n",
    "second_result_g = secondTest_g.PSO_iterations()"
   ]
  }
 ],
 "metadata": {
  "colab": {
   "collapsed_sections": [],
   "name": "bio-hw5.ipynb",
   "provenance": []
  },
  "kernelspec": {
   "display_name": "Python 3 (ipykernel)",
   "language": "python",
   "name": "python3"
  },
  "language_info": {
   "codemirror_mode": {
    "name": "ipython",
    "version": 3
   },
   "file_extension": ".py",
   "mimetype": "text/x-python",
   "name": "python",
   "nbconvert_exporter": "python",
   "pygments_lexer": "ipython3",
   "version": "3.8.10"
  }
 },
 "nbformat": 4,
 "nbformat_minor": 1
}
